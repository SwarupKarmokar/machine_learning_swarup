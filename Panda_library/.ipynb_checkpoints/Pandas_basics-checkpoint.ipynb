{
 "cells": [
  {
   "cell_type": "markdown",
   "metadata": {},
   "source": [
    "# Panda\n",
    "#### Panda is an extremely powerfull version of exel. this library allows us to do lot of thing with data."
   ]
  },
  {
   "cell_type": "code",
   "execution_count": 3,
   "metadata": {},
   "outputs": [],
   "source": [
    "import pandas as pd"
   ]
  },
  {
   "cell_type": "markdown",
   "metadata": {},
   "source": [
    "#### series\n",
    "* A series is similar to a numpy array but its have axis labels instead of  location and its also hold any arbitary python object."
   ]
  },
  {
   "cell_type": "markdown",
   "metadata": {},
   "source": [
    "## creating a series with list"
   ]
  },
  {
   "cell_type": "code",
   "execution_count": 2,
   "metadata": {},
   "outputs": [],
   "source": [
    "import numpy as np"
   ]
  },
  {
   "cell_type": "code",
   "execution_count": 3,
   "metadata": {},
   "outputs": [],
   "source": [
    "my_list = [1, 2, 3, 4, 5]\n",
    "# create a label\n",
    "labels = ['a','b','c','d','e']"
   ]
  },
  {
   "cell_type": "code",
   "execution_count": 4,
   "metadata": {},
   "outputs": [
    {
     "data": {
      "text/plain": [
       "0    1\n",
       "1    2\n",
       "2    3\n",
       "3    4\n",
       "4    5\n",
       "dtype: int64"
      ]
     },
     "execution_count": 4,
     "metadata": {},
     "output_type": "execute_result"
    }
   ],
   "source": [
    "# default:\n",
    "pd.Series(data=my_list) # by default index position have numeric value."
   ]
  },
  {
   "cell_type": "code",
   "execution_count": 5,
   "metadata": {},
   "outputs": [
    {
     "data": {
      "text/plain": [
       "a    1\n",
       "b    2\n",
       "c    3\n",
       "d    4\n",
       "e    5\n",
       "dtype: int64"
      ]
     },
     "execution_count": 5,
     "metadata": {},
     "output_type": "execute_result"
    }
   ],
   "source": [
    "# using labels\n",
    "pd.Series(data=my_list,index=labels) # also write: pd.Series(my_list,labels)"
   ]
  },
  {
   "cell_type": "code",
   "execution_count": 17,
   "metadata": {},
   "outputs": [],
   "source": [
    "list1 = ['A','B','C','D','E']\n"
   ]
  },
  {
   "cell_type": "code",
   "execution_count": 20,
   "metadata": {},
   "outputs": [
    {
     "data": {
      "text/plain": [
       "0    A\n",
       "1    B\n",
       "2    C\n",
       "3    D\n",
       "4    E\n",
       "dtype: object"
      ]
     },
     "execution_count": 20,
     "metadata": {},
     "output_type": "execute_result"
    }
   ],
   "source": [
    "pd.Series(list1) # its the example of panda's object holding power"
   ]
  },
  {
   "cell_type": "code",
   "execution_count": null,
   "metadata": {},
   "outputs": [],
   "source": []
  },
  {
   "cell_type": "markdown",
   "metadata": {},
   "source": [
    "## using arrays"
   ]
  },
  {
   "cell_type": "code",
   "execution_count": 10,
   "metadata": {},
   "outputs": [],
   "source": [
    "arr = np.arange(1,4)"
   ]
  },
  {
   "cell_type": "code",
   "execution_count": 11,
   "metadata": {},
   "outputs": [
    {
     "data": {
      "text/plain": [
       "0    1\n",
       "1    2\n",
       "2    3\n",
       "dtype: int32"
      ]
     },
     "execution_count": 11,
     "metadata": {},
     "output_type": "execute_result"
    }
   ],
   "source": [
    "pd.Series(arr)"
   ]
  },
  {
   "cell_type": "code",
   "execution_count": 12,
   "metadata": {},
   "outputs": [],
   "source": [
    "labels = ['x','y','z']"
   ]
  },
  {
   "cell_type": "code",
   "execution_count": 13,
   "metadata": {},
   "outputs": [
    {
     "data": {
      "text/plain": [
       "x    1\n",
       "y    2\n",
       "z    3\n",
       "dtype: int32"
      ]
     },
     "execution_count": 13,
     "metadata": {},
     "output_type": "execute_result"
    }
   ],
   "source": [
    "pd.Series(arr,labels)"
   ]
  },
  {
   "cell_type": "code",
   "execution_count": null,
   "metadata": {},
   "outputs": [],
   "source": []
  },
  {
   "cell_type": "markdown",
   "metadata": {},
   "source": [
    "## using dictionary"
   ]
  },
  {
   "cell_type": "code",
   "execution_count": 14,
   "metadata": {},
   "outputs": [],
   "source": [
    "my_dict = {'k1': 1, \"k2\": 3, 'k3': 6}"
   ]
  },
  {
   "cell_type": "code",
   "execution_count": 16,
   "metadata": {},
   "outputs": [
    {
     "data": {
      "text/plain": [
       "k1    1\n",
       "k2    3\n",
       "k3    6\n",
       "dtype: int64"
      ]
     },
     "execution_count": 16,
     "metadata": {},
     "output_type": "execute_result"
    }
   ],
   "source": [
    "pd.Series(my_dict)"
   ]
  },
  {
   "cell_type": "code",
   "execution_count": 21,
   "metadata": {},
   "outputs": [],
   "source": [
    "dict1 = {'name1':'hello', 'name2': 'hi'}"
   ]
  },
  {
   "cell_type": "code",
   "execution_count": 22,
   "metadata": {},
   "outputs": [
    {
     "data": {
      "text/plain": [
       "name1    hello\n",
       "name2       hi\n",
       "dtype: object"
      ]
     },
     "execution_count": 22,
     "metadata": {},
     "output_type": "execute_result"
    }
   ],
   "source": [
    "pd.Series(dict1)"
   ]
  },
  {
   "cell_type": "code",
   "execution_count": null,
   "metadata": {},
   "outputs": [],
   "source": []
  },
  {
   "cell_type": "markdown",
   "metadata": {},
   "source": [
    "## series operation\n",
    "* operation based off of index"
   ]
  },
  {
   "cell_type": "code",
   "execution_count": 23,
   "metadata": {},
   "outputs": [],
   "source": [
    "series1 = pd.Series(data = [1,2,3,4], index = ['ami','tumi','se','tini'])"
   ]
  },
  {
   "cell_type": "code",
   "execution_count": 27,
   "metadata": {},
   "outputs": [],
   "source": [
    "series2 = pd.Series(data= [4,3,2,1], index = ['ami','tumi','uni','tini'])"
   ]
  },
  {
   "cell_type": "code",
   "execution_count": 28,
   "metadata": {},
   "outputs": [
    {
     "data": {
      "text/plain": [
       "ami     5.0\n",
       "se      NaN\n",
       "tini    5.0\n",
       "tumi    5.0\n",
       "uni     NaN\n",
       "dtype: float64"
      ]
     },
     "execution_count": 28,
     "metadata": {},
     "output_type": "execute_result"
    }
   ],
   "source": [
    "series1 + series2"
   ]
  },
  {
   "cell_type": "code",
   "execution_count": 29,
   "metadata": {},
   "outputs": [
    {
     "data": {
      "text/plain": [
       "ami     4.0\n",
       "se      NaN\n",
       "tini    4.0\n",
       "tumi    6.0\n",
       "uni     NaN\n",
       "dtype: float64"
      ]
     },
     "execution_count": 29,
     "metadata": {},
     "output_type": "execute_result"
    }
   ],
   "source": [
    "series1 * series2"
   ]
  },
  {
   "cell_type": "code",
   "execution_count": null,
   "metadata": {},
   "outputs": [],
   "source": [
    "# we can also do other operation. but note that if index position not match up then the output give none value of those not match index"
   ]
  },
  {
   "cell_type": "code",
   "execution_count": null,
   "metadata": {},
   "outputs": [],
   "source": []
  },
  {
   "cell_type": "markdown",
   "metadata": {},
   "source": [
    "## Panda DataFrame:\n",
    "* dataframe is the main workhorse of pandas. a dataframe have bunch of series objects, all the series share the same index."
   ]
  },
  {
   "cell_type": "code",
   "execution_count": 1,
   "metadata": {},
   "outputs": [],
   "source": [
    "from numpy.random import randn"
   ]
  },
  {
   "cell_type": "code",
   "execution_count": 4,
   "metadata": {},
   "outputs": [],
   "source": [
    "# creating a dataframe\n",
    "df = pd.DataFrame(data = randn(5,5), index = 'A B C D E'.split(), columns = 'w x y z m'.split())"
   ]
  },
  {
   "cell_type": "code",
   "execution_count": 5,
   "metadata": {},
   "outputs": [
    {
     "data": {
      "text/html": [
       "<div>\n",
       "<style scoped>\n",
       "    .dataframe tbody tr th:only-of-type {\n",
       "        vertical-align: middle;\n",
       "    }\n",
       "\n",
       "    .dataframe tbody tr th {\n",
       "        vertical-align: top;\n",
       "    }\n",
       "\n",
       "    .dataframe thead th {\n",
       "        text-align: right;\n",
       "    }\n",
       "</style>\n",
       "<table border=\"1\" class=\"dataframe\">\n",
       "  <thead>\n",
       "    <tr style=\"text-align: right;\">\n",
       "      <th></th>\n",
       "      <th>w</th>\n",
       "      <th>x</th>\n",
       "      <th>y</th>\n",
       "      <th>z</th>\n",
       "      <th>m</th>\n",
       "    </tr>\n",
       "  </thead>\n",
       "  <tbody>\n",
       "    <tr>\n",
       "      <th>A</th>\n",
       "      <td>0.691866</td>\n",
       "      <td>-0.366758</td>\n",
       "      <td>-0.102188</td>\n",
       "      <td>0.609318</td>\n",
       "      <td>0.161942</td>\n",
       "    </tr>\n",
       "    <tr>\n",
       "      <th>B</th>\n",
       "      <td>1.342558</td>\n",
       "      <td>-0.790625</td>\n",
       "      <td>1.349793</td>\n",
       "      <td>0.610453</td>\n",
       "      <td>0.037867</td>\n",
       "    </tr>\n",
       "    <tr>\n",
       "      <th>C</th>\n",
       "      <td>-1.252164</td>\n",
       "      <td>-0.719191</td>\n",
       "      <td>-0.051967</td>\n",
       "      <td>-0.360896</td>\n",
       "      <td>-0.142261</td>\n",
       "    </tr>\n",
       "    <tr>\n",
       "      <th>D</th>\n",
       "      <td>-1.459981</td>\n",
       "      <td>0.067136</td>\n",
       "      <td>1.545995</td>\n",
       "      <td>0.386753</td>\n",
       "      <td>-0.742060</td>\n",
       "    </tr>\n",
       "    <tr>\n",
       "      <th>E</th>\n",
       "      <td>-0.278622</td>\n",
       "      <td>0.959465</td>\n",
       "      <td>-0.957390</td>\n",
       "      <td>0.550733</td>\n",
       "      <td>-0.155722</td>\n",
       "    </tr>\n",
       "  </tbody>\n",
       "</table>\n",
       "</div>"
      ],
      "text/plain": [
       "          w         x         y         z         m\n",
       "A  0.691866 -0.366758 -0.102188  0.609318  0.161942\n",
       "B  1.342558 -0.790625  1.349793  0.610453  0.037867\n",
       "C -1.252164 -0.719191 -0.051967 -0.360896 -0.142261\n",
       "D -1.459981  0.067136  1.545995  0.386753 -0.742060\n",
       "E -0.278622  0.959465 -0.957390  0.550733 -0.155722"
      ]
     },
     "execution_count": 5,
     "metadata": {},
     "output_type": "execute_result"
    }
   ],
   "source": [
    "df"
   ]
  },
  {
   "cell_type": "markdown",
   "metadata": {},
   "source": [
    "#### selection and indexing of DataFrame\n",
    "\n",
    "#### with respect of column"
   ]
  },
  {
   "cell_type": "code",
   "execution_count": 6,
   "metadata": {},
   "outputs": [
    {
     "data": {
      "text/plain": [
       "A    0.691866\n",
       "B    1.342558\n",
       "C   -1.252164\n",
       "D   -1.459981\n",
       "E   -0.278622\n",
       "Name: w, dtype: float64"
      ]
     },
     "execution_count": 6,
     "metadata": {},
     "output_type": "execute_result"
    }
   ],
   "source": [
    "df['w']"
   ]
  },
  {
   "cell_type": "code",
   "execution_count": 7,
   "metadata": {},
   "outputs": [
    {
     "data": {
      "text/plain": [
       "pandas.core.series.Series"
      ]
     },
     "execution_count": 7,
     "metadata": {},
     "output_type": "execute_result"
    }
   ],
   "source": [
    "type(df['w']) # we can see that this return a series "
   ]
  },
  {
   "cell_type": "code",
   "execution_count": 8,
   "metadata": {},
   "outputs": [
    {
     "data": {
      "text/plain": [
       "A    0.161942\n",
       "B    0.037867\n",
       "C   -0.142261\n",
       "D   -0.742060\n",
       "E   -0.155722\n",
       "Name: m, dtype: float64"
      ]
     },
     "execution_count": 8,
     "metadata": {},
     "output_type": "execute_result"
    }
   ],
   "source": [
    "df['m']"
   ]
  },
  {
   "cell_type": "code",
   "execution_count": 9,
   "metadata": {},
   "outputs": [
    {
     "data": {
      "text/html": [
       "<div>\n",
       "<style scoped>\n",
       "    .dataframe tbody tr th:only-of-type {\n",
       "        vertical-align: middle;\n",
       "    }\n",
       "\n",
       "    .dataframe tbody tr th {\n",
       "        vertical-align: top;\n",
       "    }\n",
       "\n",
       "    .dataframe thead th {\n",
       "        text-align: right;\n",
       "    }\n",
       "</style>\n",
       "<table border=\"1\" class=\"dataframe\">\n",
       "  <thead>\n",
       "    <tr style=\"text-align: right;\">\n",
       "      <th></th>\n",
       "      <th>x</th>\n",
       "      <th>y</th>\n",
       "      <th>z</th>\n",
       "    </tr>\n",
       "  </thead>\n",
       "  <tbody>\n",
       "    <tr>\n",
       "      <th>A</th>\n",
       "      <td>-0.366758</td>\n",
       "      <td>-0.102188</td>\n",
       "      <td>0.609318</td>\n",
       "    </tr>\n",
       "    <tr>\n",
       "      <th>B</th>\n",
       "      <td>-0.790625</td>\n",
       "      <td>1.349793</td>\n",
       "      <td>0.610453</td>\n",
       "    </tr>\n",
       "    <tr>\n",
       "      <th>C</th>\n",
       "      <td>-0.719191</td>\n",
       "      <td>-0.051967</td>\n",
       "      <td>-0.360896</td>\n",
       "    </tr>\n",
       "    <tr>\n",
       "      <th>D</th>\n",
       "      <td>0.067136</td>\n",
       "      <td>1.545995</td>\n",
       "      <td>0.386753</td>\n",
       "    </tr>\n",
       "    <tr>\n",
       "      <th>E</th>\n",
       "      <td>0.959465</td>\n",
       "      <td>-0.957390</td>\n",
       "      <td>0.550733</td>\n",
       "    </tr>\n",
       "  </tbody>\n",
       "</table>\n",
       "</div>"
      ],
      "text/plain": [
       "          x         y         z\n",
       "A -0.366758 -0.102188  0.609318\n",
       "B -0.790625  1.349793  0.610453\n",
       "C -0.719191 -0.051967 -0.360896\n",
       "D  0.067136  1.545995  0.386753\n",
       "E  0.959465 -0.957390  0.550733"
      ]
     },
     "execution_count": 9,
     "metadata": {},
     "output_type": "execute_result"
    }
   ],
   "source": [
    "# we can also indexing a list of columns\n",
    "df[['x','y','z']]"
   ]
  },
  {
   "cell_type": "markdown",
   "metadata": {},
   "source": [
    "#### with respect of row"
   ]
  },
  {
   "cell_type": "code",
   "execution_count": 10,
   "metadata": {},
   "outputs": [
    {
     "data": {
      "text/plain": [
       "w    1.342558\n",
       "x   -0.790625\n",
       "y    1.349793\n",
       "z    0.610453\n",
       "m    0.037867\n",
       "Name: B, dtype: float64"
      ]
     },
     "execution_count": 10,
     "metadata": {},
     "output_type": "execute_result"
    }
   ],
   "source": [
    "df.loc['B']"
   ]
  },
  {
   "cell_type": "code",
   "execution_count": 11,
   "metadata": {},
   "outputs": [
    {
     "data": {
      "text/plain": [
       "pandas.core.series.Series"
      ]
     },
     "execution_count": 11,
     "metadata": {},
     "output_type": "execute_result"
    }
   ],
   "source": [
    "type(df.loc['B']) # its also return a series"
   ]
  },
  {
   "cell_type": "code",
   "execution_count": null,
   "metadata": {},
   "outputs": [],
   "source": []
  },
  {
   "cell_type": "markdown",
   "metadata": {},
   "source": [
    "#### selecting subset of rows and columns"
   ]
  },
  {
   "cell_type": "code",
   "execution_count": 24,
   "metadata": {},
   "outputs": [
    {
     "data": {
      "text/plain": [
       "0.16194168379572269"
      ]
     },
     "execution_count": 24,
     "metadata": {},
     "output_type": "execute_result"
    }
   ],
   "source": [
    "df.loc['A','m']"
   ]
  },
  {
   "cell_type": "code",
   "execution_count": 25,
   "metadata": {},
   "outputs": [
    {
     "data": {
      "text/html": [
       "<div>\n",
       "<style scoped>\n",
       "    .dataframe tbody tr th:only-of-type {\n",
       "        vertical-align: middle;\n",
       "    }\n",
       "\n",
       "    .dataframe tbody tr th {\n",
       "        vertical-align: top;\n",
       "    }\n",
       "\n",
       "    .dataframe thead th {\n",
       "        text-align: right;\n",
       "    }\n",
       "</style>\n",
       "<table border=\"1\" class=\"dataframe\">\n",
       "  <thead>\n",
       "    <tr style=\"text-align: right;\">\n",
       "      <th></th>\n",
       "      <th>w</th>\n",
       "      <th>m</th>\n",
       "    </tr>\n",
       "  </thead>\n",
       "  <tbody>\n",
       "    <tr>\n",
       "      <th>A</th>\n",
       "      <td>0.691866</td>\n",
       "      <td>0.161942</td>\n",
       "    </tr>\n",
       "    <tr>\n",
       "      <th>B</th>\n",
       "      <td>1.342558</td>\n",
       "      <td>0.037867</td>\n",
       "    </tr>\n",
       "  </tbody>\n",
       "</table>\n",
       "</div>"
      ],
      "text/plain": [
       "          w         m\n",
       "A  0.691866  0.161942\n",
       "B  1.342558  0.037867"
      ]
     },
     "execution_count": 25,
     "metadata": {},
     "output_type": "execute_result"
    }
   ],
   "source": [
    "df.loc[[\"A\",'B'],['w','m']]"
   ]
  },
  {
   "cell_type": "code",
   "execution_count": null,
   "metadata": {},
   "outputs": [],
   "source": []
  },
  {
   "cell_type": "markdown",
   "metadata": {},
   "source": [
    "#### creating new columns using series operation "
   ]
  },
  {
   "cell_type": "code",
   "execution_count": 12,
   "metadata": {},
   "outputs": [],
   "source": [
    "df['n'] = df['x'] * df['y']"
   ]
  },
  {
   "cell_type": "code",
   "execution_count": 13,
   "metadata": {},
   "outputs": [
    {
     "data": {
      "text/html": [
       "<div>\n",
       "<style scoped>\n",
       "    .dataframe tbody tr th:only-of-type {\n",
       "        vertical-align: middle;\n",
       "    }\n",
       "\n",
       "    .dataframe tbody tr th {\n",
       "        vertical-align: top;\n",
       "    }\n",
       "\n",
       "    .dataframe thead th {\n",
       "        text-align: right;\n",
       "    }\n",
       "</style>\n",
       "<table border=\"1\" class=\"dataframe\">\n",
       "  <thead>\n",
       "    <tr style=\"text-align: right;\">\n",
       "      <th></th>\n",
       "      <th>w</th>\n",
       "      <th>x</th>\n",
       "      <th>y</th>\n",
       "      <th>z</th>\n",
       "      <th>m</th>\n",
       "      <th>n</th>\n",
       "    </tr>\n",
       "  </thead>\n",
       "  <tbody>\n",
       "    <tr>\n",
       "      <th>A</th>\n",
       "      <td>0.691866</td>\n",
       "      <td>-0.366758</td>\n",
       "      <td>-0.102188</td>\n",
       "      <td>0.609318</td>\n",
       "      <td>0.161942</td>\n",
       "      <td>0.037478</td>\n",
       "    </tr>\n",
       "    <tr>\n",
       "      <th>B</th>\n",
       "      <td>1.342558</td>\n",
       "      <td>-0.790625</td>\n",
       "      <td>1.349793</td>\n",
       "      <td>0.610453</td>\n",
       "      <td>0.037867</td>\n",
       "      <td>-1.067180</td>\n",
       "    </tr>\n",
       "    <tr>\n",
       "      <th>C</th>\n",
       "      <td>-1.252164</td>\n",
       "      <td>-0.719191</td>\n",
       "      <td>-0.051967</td>\n",
       "      <td>-0.360896</td>\n",
       "      <td>-0.142261</td>\n",
       "      <td>0.037374</td>\n",
       "    </tr>\n",
       "    <tr>\n",
       "      <th>D</th>\n",
       "      <td>-1.459981</td>\n",
       "      <td>0.067136</td>\n",
       "      <td>1.545995</td>\n",
       "      <td>0.386753</td>\n",
       "      <td>-0.742060</td>\n",
       "      <td>0.103791</td>\n",
       "    </tr>\n",
       "    <tr>\n",
       "      <th>E</th>\n",
       "      <td>-0.278622</td>\n",
       "      <td>0.959465</td>\n",
       "      <td>-0.957390</td>\n",
       "      <td>0.550733</td>\n",
       "      <td>-0.155722</td>\n",
       "      <td>-0.918582</td>\n",
       "    </tr>\n",
       "  </tbody>\n",
       "</table>\n",
       "</div>"
      ],
      "text/plain": [
       "          w         x         y         z         m         n\n",
       "A  0.691866 -0.366758 -0.102188  0.609318  0.161942  0.037478\n",
       "B  1.342558 -0.790625  1.349793  0.610453  0.037867 -1.067180\n",
       "C -1.252164 -0.719191 -0.051967 -0.360896 -0.142261  0.037374\n",
       "D -1.459981  0.067136  1.545995  0.386753 -0.742060  0.103791\n",
       "E -0.278622  0.959465 -0.957390  0.550733 -0.155722 -0.918582"
      ]
     },
     "execution_count": 13,
     "metadata": {},
     "output_type": "execute_result"
    }
   ],
   "source": [
    "df"
   ]
  },
  {
   "cell_type": "code",
   "execution_count": null,
   "metadata": {},
   "outputs": [],
   "source": []
  },
  {
   "cell_type": "markdown",
   "metadata": {},
   "source": [
    "#### creating new row using series operetion"
   ]
  },
  {
   "cell_type": "code",
   "execution_count": 14,
   "metadata": {},
   "outputs": [],
   "source": [
    "df.loc['F'] = df.loc['B'] +  df.loc['C']"
   ]
  },
  {
   "cell_type": "code",
   "execution_count": 15,
   "metadata": {},
   "outputs": [
    {
     "data": {
      "text/html": [
       "<div>\n",
       "<style scoped>\n",
       "    .dataframe tbody tr th:only-of-type {\n",
       "        vertical-align: middle;\n",
       "    }\n",
       "\n",
       "    .dataframe tbody tr th {\n",
       "        vertical-align: top;\n",
       "    }\n",
       "\n",
       "    .dataframe thead th {\n",
       "        text-align: right;\n",
       "    }\n",
       "</style>\n",
       "<table border=\"1\" class=\"dataframe\">\n",
       "  <thead>\n",
       "    <tr style=\"text-align: right;\">\n",
       "      <th></th>\n",
       "      <th>w</th>\n",
       "      <th>x</th>\n",
       "      <th>y</th>\n",
       "      <th>z</th>\n",
       "      <th>m</th>\n",
       "      <th>n</th>\n",
       "    </tr>\n",
       "  </thead>\n",
       "  <tbody>\n",
       "    <tr>\n",
       "      <th>A</th>\n",
       "      <td>0.691866</td>\n",
       "      <td>-0.366758</td>\n",
       "      <td>-0.102188</td>\n",
       "      <td>0.609318</td>\n",
       "      <td>0.161942</td>\n",
       "      <td>0.037478</td>\n",
       "    </tr>\n",
       "    <tr>\n",
       "      <th>B</th>\n",
       "      <td>1.342558</td>\n",
       "      <td>-0.790625</td>\n",
       "      <td>1.349793</td>\n",
       "      <td>0.610453</td>\n",
       "      <td>0.037867</td>\n",
       "      <td>-1.067180</td>\n",
       "    </tr>\n",
       "    <tr>\n",
       "      <th>C</th>\n",
       "      <td>-1.252164</td>\n",
       "      <td>-0.719191</td>\n",
       "      <td>-0.051967</td>\n",
       "      <td>-0.360896</td>\n",
       "      <td>-0.142261</td>\n",
       "      <td>0.037374</td>\n",
       "    </tr>\n",
       "    <tr>\n",
       "      <th>D</th>\n",
       "      <td>-1.459981</td>\n",
       "      <td>0.067136</td>\n",
       "      <td>1.545995</td>\n",
       "      <td>0.386753</td>\n",
       "      <td>-0.742060</td>\n",
       "      <td>0.103791</td>\n",
       "    </tr>\n",
       "    <tr>\n",
       "      <th>E</th>\n",
       "      <td>-0.278622</td>\n",
       "      <td>0.959465</td>\n",
       "      <td>-0.957390</td>\n",
       "      <td>0.550733</td>\n",
       "      <td>-0.155722</td>\n",
       "      <td>-0.918582</td>\n",
       "    </tr>\n",
       "    <tr>\n",
       "      <th>F</th>\n",
       "      <td>0.090394</td>\n",
       "      <td>-1.509816</td>\n",
       "      <td>1.297826</td>\n",
       "      <td>0.249557</td>\n",
       "      <td>-0.104394</td>\n",
       "      <td>-1.029806</td>\n",
       "    </tr>\n",
       "  </tbody>\n",
       "</table>\n",
       "</div>"
      ],
      "text/plain": [
       "          w         x         y         z         m         n\n",
       "A  0.691866 -0.366758 -0.102188  0.609318  0.161942  0.037478\n",
       "B  1.342558 -0.790625  1.349793  0.610453  0.037867 -1.067180\n",
       "C -1.252164 -0.719191 -0.051967 -0.360896 -0.142261  0.037374\n",
       "D -1.459981  0.067136  1.545995  0.386753 -0.742060  0.103791\n",
       "E -0.278622  0.959465 -0.957390  0.550733 -0.155722 -0.918582\n",
       "F  0.090394 -1.509816  1.297826  0.249557 -0.104394 -1.029806"
      ]
     },
     "execution_count": 15,
     "metadata": {},
     "output_type": "execute_result"
    }
   ],
   "source": [
    "df"
   ]
  },
  {
   "cell_type": "code",
   "execution_count": null,
   "metadata": {},
   "outputs": [],
   "source": []
  },
  {
   "cell_type": "markdown",
   "metadata": {},
   "source": [
    "#### removing column from dataframe"
   ]
  },
  {
   "cell_type": "code",
   "execution_count": 16,
   "metadata": {},
   "outputs": [
    {
     "data": {
      "text/html": [
       "<div>\n",
       "<style scoped>\n",
       "    .dataframe tbody tr th:only-of-type {\n",
       "        vertical-align: middle;\n",
       "    }\n",
       "\n",
       "    .dataframe tbody tr th {\n",
       "        vertical-align: top;\n",
       "    }\n",
       "\n",
       "    .dataframe thead th {\n",
       "        text-align: right;\n",
       "    }\n",
       "</style>\n",
       "<table border=\"1\" class=\"dataframe\">\n",
       "  <thead>\n",
       "    <tr style=\"text-align: right;\">\n",
       "      <th></th>\n",
       "      <th>w</th>\n",
       "      <th>x</th>\n",
       "      <th>y</th>\n",
       "      <th>z</th>\n",
       "      <th>m</th>\n",
       "    </tr>\n",
       "  </thead>\n",
       "  <tbody>\n",
       "    <tr>\n",
       "      <th>A</th>\n",
       "      <td>0.691866</td>\n",
       "      <td>-0.366758</td>\n",
       "      <td>-0.102188</td>\n",
       "      <td>0.609318</td>\n",
       "      <td>0.161942</td>\n",
       "    </tr>\n",
       "    <tr>\n",
       "      <th>B</th>\n",
       "      <td>1.342558</td>\n",
       "      <td>-0.790625</td>\n",
       "      <td>1.349793</td>\n",
       "      <td>0.610453</td>\n",
       "      <td>0.037867</td>\n",
       "    </tr>\n",
       "    <tr>\n",
       "      <th>C</th>\n",
       "      <td>-1.252164</td>\n",
       "      <td>-0.719191</td>\n",
       "      <td>-0.051967</td>\n",
       "      <td>-0.360896</td>\n",
       "      <td>-0.142261</td>\n",
       "    </tr>\n",
       "    <tr>\n",
       "      <th>D</th>\n",
       "      <td>-1.459981</td>\n",
       "      <td>0.067136</td>\n",
       "      <td>1.545995</td>\n",
       "      <td>0.386753</td>\n",
       "      <td>-0.742060</td>\n",
       "    </tr>\n",
       "    <tr>\n",
       "      <th>E</th>\n",
       "      <td>-0.278622</td>\n",
       "      <td>0.959465</td>\n",
       "      <td>-0.957390</td>\n",
       "      <td>0.550733</td>\n",
       "      <td>-0.155722</td>\n",
       "    </tr>\n",
       "    <tr>\n",
       "      <th>F</th>\n",
       "      <td>0.090394</td>\n",
       "      <td>-1.509816</td>\n",
       "      <td>1.297826</td>\n",
       "      <td>0.249557</td>\n",
       "      <td>-0.104394</td>\n",
       "    </tr>\n",
       "  </tbody>\n",
       "</table>\n",
       "</div>"
      ],
      "text/plain": [
       "          w         x         y         z         m\n",
       "A  0.691866 -0.366758 -0.102188  0.609318  0.161942\n",
       "B  1.342558 -0.790625  1.349793  0.610453  0.037867\n",
       "C -1.252164 -0.719191 -0.051967 -0.360896 -0.142261\n",
       "D -1.459981  0.067136  1.545995  0.386753 -0.742060\n",
       "E -0.278622  0.959465 -0.957390  0.550733 -0.155722\n",
       "F  0.090394 -1.509816  1.297826  0.249557 -0.104394"
      ]
     },
     "execution_count": 16,
     "metadata": {},
     "output_type": "execute_result"
    }
   ],
   "source": [
    "df.drop('n',axis=1)"
   ]
  },
  {
   "cell_type": "code",
   "execution_count": 17,
   "metadata": {},
   "outputs": [
    {
     "name": "stdout",
     "output_type": "stream",
     "text": [
      "          w         x         y         z         m         n\n",
      "A  0.691866 -0.366758 -0.102188  0.609318  0.161942  0.037478\n",
      "B  1.342558 -0.790625  1.349793  0.610453  0.037867 -1.067180\n",
      "C -1.252164 -0.719191 -0.051967 -0.360896 -0.142261  0.037374\n",
      "D -1.459981  0.067136  1.545995  0.386753 -0.742060  0.103791\n",
      "E -0.278622  0.959465 -0.957390  0.550733 -0.155722 -0.918582\n",
      "F  0.090394 -1.509816  1.297826  0.249557 -0.104394 -1.029806\n"
     ]
    }
   ],
   "source": [
    "# now if we check the original dataframe we can see 'n' column not remove from dataframe\n",
    "print(df)"
   ]
  },
  {
   "cell_type": "code",
   "execution_count": 18,
   "metadata": {},
   "outputs": [],
   "source": [
    "# if we want permanently remove any column\n",
    "df.drop('n', axis = 1, inplace = True)"
   ]
  },
  {
   "cell_type": "code",
   "execution_count": 19,
   "metadata": {},
   "outputs": [
    {
     "name": "stdout",
     "output_type": "stream",
     "text": [
      "          w         x         y         z         m\n",
      "A  0.691866 -0.366758 -0.102188  0.609318  0.161942\n",
      "B  1.342558 -0.790625  1.349793  0.610453  0.037867\n",
      "C -1.252164 -0.719191 -0.051967 -0.360896 -0.142261\n",
      "D -1.459981  0.067136  1.545995  0.386753 -0.742060\n",
      "E -0.278622  0.959465 -0.957390  0.550733 -0.155722\n",
      "F  0.090394 -1.509816  1.297826  0.249557 -0.104394\n"
     ]
    }
   ],
   "source": [
    "print(df)"
   ]
  },
  {
   "cell_type": "code",
   "execution_count": null,
   "metadata": {},
   "outputs": [],
   "source": []
  },
  {
   "cell_type": "markdown",
   "metadata": {},
   "source": [
    "#### removing row from dataframe"
   ]
  },
  {
   "cell_type": "code",
   "execution_count": 20,
   "metadata": {},
   "outputs": [
    {
     "data": {
      "text/html": [
       "<div>\n",
       "<style scoped>\n",
       "    .dataframe tbody tr th:only-of-type {\n",
       "        vertical-align: middle;\n",
       "    }\n",
       "\n",
       "    .dataframe tbody tr th {\n",
       "        vertical-align: top;\n",
       "    }\n",
       "\n",
       "    .dataframe thead th {\n",
       "        text-align: right;\n",
       "    }\n",
       "</style>\n",
       "<table border=\"1\" class=\"dataframe\">\n",
       "  <thead>\n",
       "    <tr style=\"text-align: right;\">\n",
       "      <th></th>\n",
       "      <th>w</th>\n",
       "      <th>x</th>\n",
       "      <th>y</th>\n",
       "      <th>z</th>\n",
       "      <th>m</th>\n",
       "    </tr>\n",
       "  </thead>\n",
       "  <tbody>\n",
       "    <tr>\n",
       "      <th>A</th>\n",
       "      <td>0.691866</td>\n",
       "      <td>-0.366758</td>\n",
       "      <td>-0.102188</td>\n",
       "      <td>0.609318</td>\n",
       "      <td>0.161942</td>\n",
       "    </tr>\n",
       "    <tr>\n",
       "      <th>B</th>\n",
       "      <td>1.342558</td>\n",
       "      <td>-0.790625</td>\n",
       "      <td>1.349793</td>\n",
       "      <td>0.610453</td>\n",
       "      <td>0.037867</td>\n",
       "    </tr>\n",
       "    <tr>\n",
       "      <th>C</th>\n",
       "      <td>-1.252164</td>\n",
       "      <td>-0.719191</td>\n",
       "      <td>-0.051967</td>\n",
       "      <td>-0.360896</td>\n",
       "      <td>-0.142261</td>\n",
       "    </tr>\n",
       "    <tr>\n",
       "      <th>D</th>\n",
       "      <td>-1.459981</td>\n",
       "      <td>0.067136</td>\n",
       "      <td>1.545995</td>\n",
       "      <td>0.386753</td>\n",
       "      <td>-0.742060</td>\n",
       "    </tr>\n",
       "    <tr>\n",
       "      <th>E</th>\n",
       "      <td>-0.278622</td>\n",
       "      <td>0.959465</td>\n",
       "      <td>-0.957390</td>\n",
       "      <td>0.550733</td>\n",
       "      <td>-0.155722</td>\n",
       "    </tr>\n",
       "  </tbody>\n",
       "</table>\n",
       "</div>"
      ],
      "text/plain": [
       "          w         x         y         z         m\n",
       "A  0.691866 -0.366758 -0.102188  0.609318  0.161942\n",
       "B  1.342558 -0.790625  1.349793  0.610453  0.037867\n",
       "C -1.252164 -0.719191 -0.051967 -0.360896 -0.142261\n",
       "D -1.459981  0.067136  1.545995  0.386753 -0.742060\n",
       "E -0.278622  0.959465 -0.957390  0.550733 -0.155722"
      ]
     },
     "execution_count": 20,
     "metadata": {},
     "output_type": "execute_result"
    }
   ],
   "source": [
    "df.drop('F', axis = 0)"
   ]
  },
  {
   "cell_type": "code",
   "execution_count": 21,
   "metadata": {},
   "outputs": [
    {
     "data": {
      "text/html": [
       "<div>\n",
       "<style scoped>\n",
       "    .dataframe tbody tr th:only-of-type {\n",
       "        vertical-align: middle;\n",
       "    }\n",
       "\n",
       "    .dataframe tbody tr th {\n",
       "        vertical-align: top;\n",
       "    }\n",
       "\n",
       "    .dataframe thead th {\n",
       "        text-align: right;\n",
       "    }\n",
       "</style>\n",
       "<table border=\"1\" class=\"dataframe\">\n",
       "  <thead>\n",
       "    <tr style=\"text-align: right;\">\n",
       "      <th></th>\n",
       "      <th>w</th>\n",
       "      <th>x</th>\n",
       "      <th>y</th>\n",
       "      <th>z</th>\n",
       "      <th>m</th>\n",
       "    </tr>\n",
       "  </thead>\n",
       "  <tbody>\n",
       "    <tr>\n",
       "      <th>A</th>\n",
       "      <td>0.691866</td>\n",
       "      <td>-0.366758</td>\n",
       "      <td>-0.102188</td>\n",
       "      <td>0.609318</td>\n",
       "      <td>0.161942</td>\n",
       "    </tr>\n",
       "    <tr>\n",
       "      <th>B</th>\n",
       "      <td>1.342558</td>\n",
       "      <td>-0.790625</td>\n",
       "      <td>1.349793</td>\n",
       "      <td>0.610453</td>\n",
       "      <td>0.037867</td>\n",
       "    </tr>\n",
       "    <tr>\n",
       "      <th>C</th>\n",
       "      <td>-1.252164</td>\n",
       "      <td>-0.719191</td>\n",
       "      <td>-0.051967</td>\n",
       "      <td>-0.360896</td>\n",
       "      <td>-0.142261</td>\n",
       "    </tr>\n",
       "    <tr>\n",
       "      <th>D</th>\n",
       "      <td>-1.459981</td>\n",
       "      <td>0.067136</td>\n",
       "      <td>1.545995</td>\n",
       "      <td>0.386753</td>\n",
       "      <td>-0.742060</td>\n",
       "    </tr>\n",
       "    <tr>\n",
       "      <th>E</th>\n",
       "      <td>-0.278622</td>\n",
       "      <td>0.959465</td>\n",
       "      <td>-0.957390</td>\n",
       "      <td>0.550733</td>\n",
       "      <td>-0.155722</td>\n",
       "    </tr>\n",
       "    <tr>\n",
       "      <th>F</th>\n",
       "      <td>0.090394</td>\n",
       "      <td>-1.509816</td>\n",
       "      <td>1.297826</td>\n",
       "      <td>0.249557</td>\n",
       "      <td>-0.104394</td>\n",
       "    </tr>\n",
       "  </tbody>\n",
       "</table>\n",
       "</div>"
      ],
      "text/plain": [
       "          w         x         y         z         m\n",
       "A  0.691866 -0.366758 -0.102188  0.609318  0.161942\n",
       "B  1.342558 -0.790625  1.349793  0.610453  0.037867\n",
       "C -1.252164 -0.719191 -0.051967 -0.360896 -0.142261\n",
       "D -1.459981  0.067136  1.545995  0.386753 -0.742060\n",
       "E -0.278622  0.959465 -0.957390  0.550733 -0.155722\n",
       "F  0.090394 -1.509816  1.297826  0.249557 -0.104394"
      ]
     },
     "execution_count": 21,
     "metadata": {},
     "output_type": "execute_result"
    }
   ],
   "source": [
    "# here also we can see row does't remove from original dataframe\n",
    "df"
   ]
  },
  {
   "cell_type": "code",
   "execution_count": 22,
   "metadata": {},
   "outputs": [],
   "source": [
    "# for permanent remove of any row\n",
    "df.drop('F', axis = 0, inplace = True)"
   ]
  },
  {
   "cell_type": "code",
   "execution_count": 23,
   "metadata": {},
   "outputs": [
    {
     "data": {
      "text/html": [
       "<div>\n",
       "<style scoped>\n",
       "    .dataframe tbody tr th:only-of-type {\n",
       "        vertical-align: middle;\n",
       "    }\n",
       "\n",
       "    .dataframe tbody tr th {\n",
       "        vertical-align: top;\n",
       "    }\n",
       "\n",
       "    .dataframe thead th {\n",
       "        text-align: right;\n",
       "    }\n",
       "</style>\n",
       "<table border=\"1\" class=\"dataframe\">\n",
       "  <thead>\n",
       "    <tr style=\"text-align: right;\">\n",
       "      <th></th>\n",
       "      <th>w</th>\n",
       "      <th>x</th>\n",
       "      <th>y</th>\n",
       "      <th>z</th>\n",
       "      <th>m</th>\n",
       "    </tr>\n",
       "  </thead>\n",
       "  <tbody>\n",
       "    <tr>\n",
       "      <th>A</th>\n",
       "      <td>0.691866</td>\n",
       "      <td>-0.366758</td>\n",
       "      <td>-0.102188</td>\n",
       "      <td>0.609318</td>\n",
       "      <td>0.161942</td>\n",
       "    </tr>\n",
       "    <tr>\n",
       "      <th>B</th>\n",
       "      <td>1.342558</td>\n",
       "      <td>-0.790625</td>\n",
       "      <td>1.349793</td>\n",
       "      <td>0.610453</td>\n",
       "      <td>0.037867</td>\n",
       "    </tr>\n",
       "    <tr>\n",
       "      <th>C</th>\n",
       "      <td>-1.252164</td>\n",
       "      <td>-0.719191</td>\n",
       "      <td>-0.051967</td>\n",
       "      <td>-0.360896</td>\n",
       "      <td>-0.142261</td>\n",
       "    </tr>\n",
       "    <tr>\n",
       "      <th>D</th>\n",
       "      <td>-1.459981</td>\n",
       "      <td>0.067136</td>\n",
       "      <td>1.545995</td>\n",
       "      <td>0.386753</td>\n",
       "      <td>-0.742060</td>\n",
       "    </tr>\n",
       "    <tr>\n",
       "      <th>E</th>\n",
       "      <td>-0.278622</td>\n",
       "      <td>0.959465</td>\n",
       "      <td>-0.957390</td>\n",
       "      <td>0.550733</td>\n",
       "      <td>-0.155722</td>\n",
       "    </tr>\n",
       "  </tbody>\n",
       "</table>\n",
       "</div>"
      ],
      "text/plain": [
       "          w         x         y         z         m\n",
       "A  0.691866 -0.366758 -0.102188  0.609318  0.161942\n",
       "B  1.342558 -0.790625  1.349793  0.610453  0.037867\n",
       "C -1.252164 -0.719191 -0.051967 -0.360896 -0.142261\n",
       "D -1.459981  0.067136  1.545995  0.386753 -0.742060\n",
       "E -0.278622  0.959465 -0.957390  0.550733 -0.155722"
      ]
     },
     "execution_count": 23,
     "metadata": {},
     "output_type": "execute_result"
    }
   ],
   "source": [
    "df"
   ]
  },
  {
   "cell_type": "code",
   "execution_count": null,
   "metadata": {},
   "outputs": [],
   "source": []
  },
  {
   "cell_type": "markdown",
   "metadata": {},
   "source": [
    "#### conditional selection"
   ]
  },
  {
   "cell_type": "code",
   "execution_count": 26,
   "metadata": {},
   "outputs": [
    {
     "data": {
      "text/html": [
       "<div>\n",
       "<style scoped>\n",
       "    .dataframe tbody tr th:only-of-type {\n",
       "        vertical-align: middle;\n",
       "    }\n",
       "\n",
       "    .dataframe tbody tr th {\n",
       "        vertical-align: top;\n",
       "    }\n",
       "\n",
       "    .dataframe thead th {\n",
       "        text-align: right;\n",
       "    }\n",
       "</style>\n",
       "<table border=\"1\" class=\"dataframe\">\n",
       "  <thead>\n",
       "    <tr style=\"text-align: right;\">\n",
       "      <th></th>\n",
       "      <th>w</th>\n",
       "      <th>x</th>\n",
       "      <th>y</th>\n",
       "      <th>z</th>\n",
       "      <th>m</th>\n",
       "    </tr>\n",
       "  </thead>\n",
       "  <tbody>\n",
       "    <tr>\n",
       "      <th>A</th>\n",
       "      <td>True</td>\n",
       "      <td>False</td>\n",
       "      <td>False</td>\n",
       "      <td>True</td>\n",
       "      <td>True</td>\n",
       "    </tr>\n",
       "    <tr>\n",
       "      <th>B</th>\n",
       "      <td>True</td>\n",
       "      <td>False</td>\n",
       "      <td>True</td>\n",
       "      <td>True</td>\n",
       "      <td>True</td>\n",
       "    </tr>\n",
       "    <tr>\n",
       "      <th>C</th>\n",
       "      <td>False</td>\n",
       "      <td>False</td>\n",
       "      <td>False</td>\n",
       "      <td>False</td>\n",
       "      <td>False</td>\n",
       "    </tr>\n",
       "    <tr>\n",
       "      <th>D</th>\n",
       "      <td>False</td>\n",
       "      <td>True</td>\n",
       "      <td>True</td>\n",
       "      <td>True</td>\n",
       "      <td>False</td>\n",
       "    </tr>\n",
       "    <tr>\n",
       "      <th>E</th>\n",
       "      <td>False</td>\n",
       "      <td>True</td>\n",
       "      <td>False</td>\n",
       "      <td>True</td>\n",
       "      <td>False</td>\n",
       "    </tr>\n",
       "  </tbody>\n",
       "</table>\n",
       "</div>"
      ],
      "text/plain": [
       "       w      x      y      z      m\n",
       "A   True  False  False   True   True\n",
       "B   True  False   True   True   True\n",
       "C  False  False  False  False  False\n",
       "D  False   True   True   True  False\n",
       "E  False   True  False   True  False"
      ]
     },
     "execution_count": 26,
     "metadata": {},
     "output_type": "execute_result"
    }
   ],
   "source": [
    "# its same as the numpy selection. return the boolean value\n",
    "df>0"
   ]
  },
  {
   "cell_type": "code",
   "execution_count": 27,
   "metadata": {},
   "outputs": [
    {
     "data": {
      "text/html": [
       "<div>\n",
       "<style scoped>\n",
       "    .dataframe tbody tr th:only-of-type {\n",
       "        vertical-align: middle;\n",
       "    }\n",
       "\n",
       "    .dataframe tbody tr th {\n",
       "        vertical-align: top;\n",
       "    }\n",
       "\n",
       "    .dataframe thead th {\n",
       "        text-align: right;\n",
       "    }\n",
       "</style>\n",
       "<table border=\"1\" class=\"dataframe\">\n",
       "  <thead>\n",
       "    <tr style=\"text-align: right;\">\n",
       "      <th></th>\n",
       "      <th>w</th>\n",
       "      <th>x</th>\n",
       "      <th>y</th>\n",
       "      <th>z</th>\n",
       "      <th>m</th>\n",
       "    </tr>\n",
       "  </thead>\n",
       "  <tbody>\n",
       "    <tr>\n",
       "      <th>A</th>\n",
       "      <td>0.691866</td>\n",
       "      <td>NaN</td>\n",
       "      <td>NaN</td>\n",
       "      <td>0.609318</td>\n",
       "      <td>0.161942</td>\n",
       "    </tr>\n",
       "    <tr>\n",
       "      <th>B</th>\n",
       "      <td>1.342558</td>\n",
       "      <td>NaN</td>\n",
       "      <td>1.349793</td>\n",
       "      <td>0.610453</td>\n",
       "      <td>0.037867</td>\n",
       "    </tr>\n",
       "    <tr>\n",
       "      <th>C</th>\n",
       "      <td>NaN</td>\n",
       "      <td>NaN</td>\n",
       "      <td>NaN</td>\n",
       "      <td>NaN</td>\n",
       "      <td>NaN</td>\n",
       "    </tr>\n",
       "    <tr>\n",
       "      <th>D</th>\n",
       "      <td>NaN</td>\n",
       "      <td>0.067136</td>\n",
       "      <td>1.545995</td>\n",
       "      <td>0.386753</td>\n",
       "      <td>NaN</td>\n",
       "    </tr>\n",
       "    <tr>\n",
       "      <th>E</th>\n",
       "      <td>NaN</td>\n",
       "      <td>0.959465</td>\n",
       "      <td>NaN</td>\n",
       "      <td>0.550733</td>\n",
       "      <td>NaN</td>\n",
       "    </tr>\n",
       "  </tbody>\n",
       "</table>\n",
       "</div>"
      ],
      "text/plain": [
       "          w         x         y         z         m\n",
       "A  0.691866       NaN       NaN  0.609318  0.161942\n",
       "B  1.342558       NaN  1.349793  0.610453  0.037867\n",
       "C       NaN       NaN       NaN       NaN       NaN\n",
       "D       NaN  0.067136  1.545995  0.386753       NaN\n",
       "E       NaN  0.959465       NaN  0.550733       NaN"
      ]
     },
     "execution_count": 27,
     "metadata": {},
     "output_type": "execute_result"
    }
   ],
   "source": [
    "# for getting the true value of the dataframe we can pass the dataframe with the original one\n",
    "df[df>0] # note that here the false values shown as NaN values"
   ]
  },
  {
   "cell_type": "code",
   "execution_count": 29,
   "metadata": {},
   "outputs": [
    {
     "data": {
      "text/html": [
       "<div>\n",
       "<style scoped>\n",
       "    .dataframe tbody tr th:only-of-type {\n",
       "        vertical-align: middle;\n",
       "    }\n",
       "\n",
       "    .dataframe tbody tr th {\n",
       "        vertical-align: top;\n",
       "    }\n",
       "\n",
       "    .dataframe thead th {\n",
       "        text-align: right;\n",
       "    }\n",
       "</style>\n",
       "<table border=\"1\" class=\"dataframe\">\n",
       "  <thead>\n",
       "    <tr style=\"text-align: right;\">\n",
       "      <th></th>\n",
       "      <th>w</th>\n",
       "      <th>x</th>\n",
       "      <th>y</th>\n",
       "      <th>z</th>\n",
       "      <th>m</th>\n",
       "    </tr>\n",
       "  </thead>\n",
       "  <tbody>\n",
       "    <tr>\n",
       "      <th>C</th>\n",
       "      <td>-1.252164</td>\n",
       "      <td>-0.719191</td>\n",
       "      <td>-0.051967</td>\n",
       "      <td>-0.360896</td>\n",
       "      <td>-0.142261</td>\n",
       "    </tr>\n",
       "    <tr>\n",
       "      <th>D</th>\n",
       "      <td>-1.459981</td>\n",
       "      <td>0.067136</td>\n",
       "      <td>1.545995</td>\n",
       "      <td>0.386753</td>\n",
       "      <td>-0.742060</td>\n",
       "    </tr>\n",
       "    <tr>\n",
       "      <th>E</th>\n",
       "      <td>-0.278622</td>\n",
       "      <td>0.959465</td>\n",
       "      <td>-0.957390</td>\n",
       "      <td>0.550733</td>\n",
       "      <td>-0.155722</td>\n",
       "    </tr>\n",
       "  </tbody>\n",
       "</table>\n",
       "</div>"
      ],
      "text/plain": [
       "          w         x         y         z         m\n",
       "C -1.252164 -0.719191 -0.051967 -0.360896 -0.142261\n",
       "D -1.459981  0.067136  1.545995  0.386753 -0.742060\n",
       "E -0.278622  0.959465 -0.957390  0.550733 -0.155722"
      ]
     },
     "execution_count": 29,
     "metadata": {},
     "output_type": "execute_result"
    }
   ],
   "source": [
    "# we can also seletion over a specified colums\n",
    "df[df['w']<0]"
   ]
  },
  {
   "cell_type": "code",
   "execution_count": 30,
   "metadata": {},
   "outputs": [
    {
     "data": {
      "text/plain": [
       "A    0.161942\n",
       "B    0.037867\n",
       "Name: m, dtype: float64"
      ]
     },
     "execution_count": 30,
     "metadata": {},
     "output_type": "execute_result"
    }
   ],
   "source": [
    "# we get another column or columns with the basis of a column conditional selection\n",
    "df[df['w']>0]['m']"
   ]
  },
  {
   "cell_type": "code",
   "execution_count": 32,
   "metadata": {},
   "outputs": [
    {
     "data": {
      "text/html": [
       "<div>\n",
       "<style scoped>\n",
       "    .dataframe tbody tr th:only-of-type {\n",
       "        vertical-align: middle;\n",
       "    }\n",
       "\n",
       "    .dataframe tbody tr th {\n",
       "        vertical-align: top;\n",
       "    }\n",
       "\n",
       "    .dataframe thead th {\n",
       "        text-align: right;\n",
       "    }\n",
       "</style>\n",
       "<table border=\"1\" class=\"dataframe\">\n",
       "  <thead>\n",
       "    <tr style=\"text-align: right;\">\n",
       "      <th></th>\n",
       "      <th>z</th>\n",
       "      <th>m</th>\n",
       "    </tr>\n",
       "  </thead>\n",
       "  <tbody>\n",
       "    <tr>\n",
       "      <th>A</th>\n",
       "      <td>0.609318</td>\n",
       "      <td>0.161942</td>\n",
       "    </tr>\n",
       "    <tr>\n",
       "      <th>B</th>\n",
       "      <td>0.610453</td>\n",
       "      <td>0.037867</td>\n",
       "    </tr>\n",
       "  </tbody>\n",
       "</table>\n",
       "</div>"
      ],
      "text/plain": [
       "          z         m\n",
       "A  0.609318  0.161942\n",
       "B  0.610453  0.037867"
      ]
     },
     "execution_count": 32,
     "metadata": {},
     "output_type": "execute_result"
    }
   ],
   "source": [
    "df[df['w']>0][['z','m']]"
   ]
  },
  {
   "cell_type": "markdown",
   "metadata": {},
   "source": [
    "#### using logical operator(&,|)"
   ]
  },
  {
   "cell_type": "code",
   "execution_count": 37,
   "metadata": {},
   "outputs": [
    {
     "data": {
      "text/html": [
       "<div>\n",
       "<style scoped>\n",
       "    .dataframe tbody tr th:only-of-type {\n",
       "        vertical-align: middle;\n",
       "    }\n",
       "\n",
       "    .dataframe tbody tr th {\n",
       "        vertical-align: top;\n",
       "    }\n",
       "\n",
       "    .dataframe thead th {\n",
       "        text-align: right;\n",
       "    }\n",
       "</style>\n",
       "<table border=\"1\" class=\"dataframe\">\n",
       "  <thead>\n",
       "    <tr style=\"text-align: right;\">\n",
       "      <th></th>\n",
       "      <th>w</th>\n",
       "      <th>x</th>\n",
       "      <th>y</th>\n",
       "      <th>z</th>\n",
       "      <th>m</th>\n",
       "    </tr>\n",
       "  </thead>\n",
       "  <tbody>\n",
       "    <tr>\n",
       "      <th>A</th>\n",
       "      <td>0.691866</td>\n",
       "      <td>-0.366758</td>\n",
       "      <td>-0.102188</td>\n",
       "      <td>0.609318</td>\n",
       "      <td>0.161942</td>\n",
       "    </tr>\n",
       "    <tr>\n",
       "      <th>B</th>\n",
       "      <td>1.342558</td>\n",
       "      <td>-0.790625</td>\n",
       "      <td>1.349793</td>\n",
       "      <td>0.610453</td>\n",
       "      <td>0.037867</td>\n",
       "    </tr>\n",
       "  </tbody>\n",
       "</table>\n",
       "</div>"
      ],
      "text/plain": [
       "          w         x         y         z         m\n",
       "A  0.691866 -0.366758 -0.102188  0.609318  0.161942\n",
       "B  1.342558 -0.790625  1.349793  0.610453  0.037867"
      ]
     },
     "execution_count": 37,
     "metadata": {},
     "output_type": "execute_result"
    }
   ],
   "source": [
    "df[(df['w']>0) & (df['m']<1)] "
   ]
  },
  {
   "cell_type": "code",
   "execution_count": 38,
   "metadata": {},
   "outputs": [
    {
     "data": {
      "text/html": [
       "<div>\n",
       "<style scoped>\n",
       "    .dataframe tbody tr th:only-of-type {\n",
       "        vertical-align: middle;\n",
       "    }\n",
       "\n",
       "    .dataframe tbody tr th {\n",
       "        vertical-align: top;\n",
       "    }\n",
       "\n",
       "    .dataframe thead th {\n",
       "        text-align: right;\n",
       "    }\n",
       "</style>\n",
       "<table border=\"1\" class=\"dataframe\">\n",
       "  <thead>\n",
       "    <tr style=\"text-align: right;\">\n",
       "      <th></th>\n",
       "      <th>w</th>\n",
       "      <th>x</th>\n",
       "      <th>y</th>\n",
       "      <th>z</th>\n",
       "      <th>m</th>\n",
       "    </tr>\n",
       "  </thead>\n",
       "  <tbody>\n",
       "    <tr>\n",
       "      <th>A</th>\n",
       "      <td>0.691866</td>\n",
       "      <td>-0.366758</td>\n",
       "      <td>-0.102188</td>\n",
       "      <td>0.609318</td>\n",
       "      <td>0.161942</td>\n",
       "    </tr>\n",
       "    <tr>\n",
       "      <th>B</th>\n",
       "      <td>1.342558</td>\n",
       "      <td>-0.790625</td>\n",
       "      <td>1.349793</td>\n",
       "      <td>0.610453</td>\n",
       "      <td>0.037867</td>\n",
       "    </tr>\n",
       "    <tr>\n",
       "      <th>C</th>\n",
       "      <td>-1.252164</td>\n",
       "      <td>-0.719191</td>\n",
       "      <td>-0.051967</td>\n",
       "      <td>-0.360896</td>\n",
       "      <td>-0.142261</td>\n",
       "    </tr>\n",
       "    <tr>\n",
       "      <th>D</th>\n",
       "      <td>-1.459981</td>\n",
       "      <td>0.067136</td>\n",
       "      <td>1.545995</td>\n",
       "      <td>0.386753</td>\n",
       "      <td>-0.742060</td>\n",
       "    </tr>\n",
       "    <tr>\n",
       "      <th>E</th>\n",
       "      <td>-0.278622</td>\n",
       "      <td>0.959465</td>\n",
       "      <td>-0.957390</td>\n",
       "      <td>0.550733</td>\n",
       "      <td>-0.155722</td>\n",
       "    </tr>\n",
       "  </tbody>\n",
       "</table>\n",
       "</div>"
      ],
      "text/plain": [
       "          w         x         y         z         m\n",
       "A  0.691866 -0.366758 -0.102188  0.609318  0.161942\n",
       "B  1.342558 -0.790625  1.349793  0.610453  0.037867\n",
       "C -1.252164 -0.719191 -0.051967 -0.360896 -0.142261\n",
       "D -1.459981  0.067136  1.545995  0.386753 -0.742060\n",
       "E -0.278622  0.959465 -0.957390  0.550733 -0.155722"
      ]
     },
     "execution_count": 38,
     "metadata": {},
     "output_type": "execute_result"
    }
   ],
   "source": [
    "df[(df['w']>0) | (df['m']<1)] "
   ]
  },
  {
   "cell_type": "code",
   "execution_count": null,
   "metadata": {},
   "outputs": [],
   "source": []
  },
  {
   "cell_type": "markdown",
   "metadata": {},
   "source": [
    "#### creating columns using list"
   ]
  },
  {
   "cell_type": "code",
   "execution_count": 46,
   "metadata": {},
   "outputs": [],
   "source": [
    "df['new'] = 'a b c d e'.split()"
   ]
  },
  {
   "cell_type": "code",
   "execution_count": 47,
   "metadata": {},
   "outputs": [
    {
     "data": {
      "text/html": [
       "<div>\n",
       "<style scoped>\n",
       "    .dataframe tbody tr th:only-of-type {\n",
       "        vertical-align: middle;\n",
       "    }\n",
       "\n",
       "    .dataframe tbody tr th {\n",
       "        vertical-align: top;\n",
       "    }\n",
       "\n",
       "    .dataframe thead th {\n",
       "        text-align: right;\n",
       "    }\n",
       "</style>\n",
       "<table border=\"1\" class=\"dataframe\">\n",
       "  <thead>\n",
       "    <tr style=\"text-align: right;\">\n",
       "      <th></th>\n",
       "      <th>w</th>\n",
       "      <th>x</th>\n",
       "      <th>y</th>\n",
       "      <th>z</th>\n",
       "      <th>m</th>\n",
       "      <th>new</th>\n",
       "    </tr>\n",
       "  </thead>\n",
       "  <tbody>\n",
       "    <tr>\n",
       "      <th>A</th>\n",
       "      <td>0.691866</td>\n",
       "      <td>-0.366758</td>\n",
       "      <td>-0.102188</td>\n",
       "      <td>0.609318</td>\n",
       "      <td>0.161942</td>\n",
       "      <td>a</td>\n",
       "    </tr>\n",
       "    <tr>\n",
       "      <th>B</th>\n",
       "      <td>1.342558</td>\n",
       "      <td>-0.790625</td>\n",
       "      <td>1.349793</td>\n",
       "      <td>0.610453</td>\n",
       "      <td>0.037867</td>\n",
       "      <td>b</td>\n",
       "    </tr>\n",
       "    <tr>\n",
       "      <th>C</th>\n",
       "      <td>-1.252164</td>\n",
       "      <td>-0.719191</td>\n",
       "      <td>-0.051967</td>\n",
       "      <td>-0.360896</td>\n",
       "      <td>-0.142261</td>\n",
       "      <td>c</td>\n",
       "    </tr>\n",
       "    <tr>\n",
       "      <th>D</th>\n",
       "      <td>-1.459981</td>\n",
       "      <td>0.067136</td>\n",
       "      <td>1.545995</td>\n",
       "      <td>0.386753</td>\n",
       "      <td>-0.742060</td>\n",
       "      <td>d</td>\n",
       "    </tr>\n",
       "    <tr>\n",
       "      <th>E</th>\n",
       "      <td>-0.278622</td>\n",
       "      <td>0.959465</td>\n",
       "      <td>-0.957390</td>\n",
       "      <td>0.550733</td>\n",
       "      <td>-0.155722</td>\n",
       "      <td>e</td>\n",
       "    </tr>\n",
       "  </tbody>\n",
       "</table>\n",
       "</div>"
      ],
      "text/plain": [
       "          w         x         y         z         m new\n",
       "A  0.691866 -0.366758 -0.102188  0.609318  0.161942   a\n",
       "B  1.342558 -0.790625  1.349793  0.610453  0.037867   b\n",
       "C -1.252164 -0.719191 -0.051967 -0.360896 -0.142261   c\n",
       "D -1.459981  0.067136  1.545995  0.386753 -0.742060   d\n",
       "E -0.278622  0.959465 -0.957390  0.550733 -0.155722   e"
      ]
     },
     "execution_count": 47,
     "metadata": {},
     "output_type": "execute_result"
    }
   ],
   "source": [
    "df"
   ]
  },
  {
   "cell_type": "markdown",
   "metadata": {},
   "source": [
    "#### some index function"
   ]
  },
  {
   "cell_type": "code",
   "execution_count": 48,
   "metadata": {},
   "outputs": [
    {
     "data": {
      "text/html": [
       "<div>\n",
       "<style scoped>\n",
       "    .dataframe tbody tr th:only-of-type {\n",
       "        vertical-align: middle;\n",
       "    }\n",
       "\n",
       "    .dataframe tbody tr th {\n",
       "        vertical-align: top;\n",
       "    }\n",
       "\n",
       "    .dataframe thead th {\n",
       "        text-align: right;\n",
       "    }\n",
       "</style>\n",
       "<table border=\"1\" class=\"dataframe\">\n",
       "  <thead>\n",
       "    <tr style=\"text-align: right;\">\n",
       "      <th></th>\n",
       "      <th>index</th>\n",
       "      <th>w</th>\n",
       "      <th>x</th>\n",
       "      <th>y</th>\n",
       "      <th>z</th>\n",
       "      <th>m</th>\n",
       "      <th>new</th>\n",
       "    </tr>\n",
       "  </thead>\n",
       "  <tbody>\n",
       "    <tr>\n",
       "      <th>0</th>\n",
       "      <td>A</td>\n",
       "      <td>0.691866</td>\n",
       "      <td>-0.366758</td>\n",
       "      <td>-0.102188</td>\n",
       "      <td>0.609318</td>\n",
       "      <td>0.161942</td>\n",
       "      <td>a</td>\n",
       "    </tr>\n",
       "    <tr>\n",
       "      <th>1</th>\n",
       "      <td>B</td>\n",
       "      <td>1.342558</td>\n",
       "      <td>-0.790625</td>\n",
       "      <td>1.349793</td>\n",
       "      <td>0.610453</td>\n",
       "      <td>0.037867</td>\n",
       "      <td>b</td>\n",
       "    </tr>\n",
       "    <tr>\n",
       "      <th>2</th>\n",
       "      <td>C</td>\n",
       "      <td>-1.252164</td>\n",
       "      <td>-0.719191</td>\n",
       "      <td>-0.051967</td>\n",
       "      <td>-0.360896</td>\n",
       "      <td>-0.142261</td>\n",
       "      <td>c</td>\n",
       "    </tr>\n",
       "    <tr>\n",
       "      <th>3</th>\n",
       "      <td>D</td>\n",
       "      <td>-1.459981</td>\n",
       "      <td>0.067136</td>\n",
       "      <td>1.545995</td>\n",
       "      <td>0.386753</td>\n",
       "      <td>-0.742060</td>\n",
       "      <td>d</td>\n",
       "    </tr>\n",
       "    <tr>\n",
       "      <th>4</th>\n",
       "      <td>E</td>\n",
       "      <td>-0.278622</td>\n",
       "      <td>0.959465</td>\n",
       "      <td>-0.957390</td>\n",
       "      <td>0.550733</td>\n",
       "      <td>-0.155722</td>\n",
       "      <td>e</td>\n",
       "    </tr>\n",
       "  </tbody>\n",
       "</table>\n",
       "</div>"
      ],
      "text/plain": [
       "  index         w         x         y         z         m new\n",
       "0     A  0.691866 -0.366758 -0.102188  0.609318  0.161942   a\n",
       "1     B  1.342558 -0.790625  1.349793  0.610453  0.037867   b\n",
       "2     C -1.252164 -0.719191 -0.051967 -0.360896 -0.142261   c\n",
       "3     D -1.459981  0.067136  1.545995  0.386753 -0.742060   d\n",
       "4     E -0.278622  0.959465 -0.957390  0.550733 -0.155722   e"
      ]
     },
     "execution_count": 48,
     "metadata": {},
     "output_type": "execute_result"
    }
   ],
   "source": [
    "df.reset_index() # default index "
   ]
  },
  {
   "cell_type": "code",
   "execution_count": 49,
   "metadata": {},
   "outputs": [
    {
     "data": {
      "text/html": [
       "<div>\n",
       "<style scoped>\n",
       "    .dataframe tbody tr th:only-of-type {\n",
       "        vertical-align: middle;\n",
       "    }\n",
       "\n",
       "    .dataframe tbody tr th {\n",
       "        vertical-align: top;\n",
       "    }\n",
       "\n",
       "    .dataframe thead th {\n",
       "        text-align: right;\n",
       "    }\n",
       "</style>\n",
       "<table border=\"1\" class=\"dataframe\">\n",
       "  <thead>\n",
       "    <tr style=\"text-align: right;\">\n",
       "      <th></th>\n",
       "      <th>w</th>\n",
       "      <th>x</th>\n",
       "      <th>y</th>\n",
       "      <th>z</th>\n",
       "      <th>m</th>\n",
       "    </tr>\n",
       "    <tr>\n",
       "      <th>new</th>\n",
       "      <th></th>\n",
       "      <th></th>\n",
       "      <th></th>\n",
       "      <th></th>\n",
       "      <th></th>\n",
       "    </tr>\n",
       "  </thead>\n",
       "  <tbody>\n",
       "    <tr>\n",
       "      <th>a</th>\n",
       "      <td>0.691866</td>\n",
       "      <td>-0.366758</td>\n",
       "      <td>-0.102188</td>\n",
       "      <td>0.609318</td>\n",
       "      <td>0.161942</td>\n",
       "    </tr>\n",
       "    <tr>\n",
       "      <th>b</th>\n",
       "      <td>1.342558</td>\n",
       "      <td>-0.790625</td>\n",
       "      <td>1.349793</td>\n",
       "      <td>0.610453</td>\n",
       "      <td>0.037867</td>\n",
       "    </tr>\n",
       "    <tr>\n",
       "      <th>c</th>\n",
       "      <td>-1.252164</td>\n",
       "      <td>-0.719191</td>\n",
       "      <td>-0.051967</td>\n",
       "      <td>-0.360896</td>\n",
       "      <td>-0.142261</td>\n",
       "    </tr>\n",
       "    <tr>\n",
       "      <th>d</th>\n",
       "      <td>-1.459981</td>\n",
       "      <td>0.067136</td>\n",
       "      <td>1.545995</td>\n",
       "      <td>0.386753</td>\n",
       "      <td>-0.742060</td>\n",
       "    </tr>\n",
       "    <tr>\n",
       "      <th>e</th>\n",
       "      <td>-0.278622</td>\n",
       "      <td>0.959465</td>\n",
       "      <td>-0.957390</td>\n",
       "      <td>0.550733</td>\n",
       "      <td>-0.155722</td>\n",
       "    </tr>\n",
       "  </tbody>\n",
       "</table>\n",
       "</div>"
      ],
      "text/plain": [
       "            w         x         y         z         m\n",
       "new                                                  \n",
       "a    0.691866 -0.366758 -0.102188  0.609318  0.161942\n",
       "b    1.342558 -0.790625  1.349793  0.610453  0.037867\n",
       "c   -1.252164 -0.719191 -0.051967 -0.360896 -0.142261\n",
       "d   -1.459981  0.067136  1.545995  0.386753 -0.742060\n",
       "e   -0.278622  0.959465 -0.957390  0.550733 -0.155722"
      ]
     },
     "execution_count": 49,
     "metadata": {},
     "output_type": "execute_result"
    }
   ],
   "source": [
    "df.set_index('new')"
   ]
  },
  {
   "cell_type": "code",
   "execution_count": 50,
   "metadata": {},
   "outputs": [
    {
     "data": {
      "text/html": [
       "<div>\n",
       "<style scoped>\n",
       "    .dataframe tbody tr th:only-of-type {\n",
       "        vertical-align: middle;\n",
       "    }\n",
       "\n",
       "    .dataframe tbody tr th {\n",
       "        vertical-align: top;\n",
       "    }\n",
       "\n",
       "    .dataframe thead th {\n",
       "        text-align: right;\n",
       "    }\n",
       "</style>\n",
       "<table border=\"1\" class=\"dataframe\">\n",
       "  <thead>\n",
       "    <tr style=\"text-align: right;\">\n",
       "      <th></th>\n",
       "      <th>w</th>\n",
       "      <th>x</th>\n",
       "      <th>y</th>\n",
       "      <th>z</th>\n",
       "      <th>m</th>\n",
       "      <th>new</th>\n",
       "    </tr>\n",
       "  </thead>\n",
       "  <tbody>\n",
       "    <tr>\n",
       "      <th>A</th>\n",
       "      <td>0.691866</td>\n",
       "      <td>-0.366758</td>\n",
       "      <td>-0.102188</td>\n",
       "      <td>0.609318</td>\n",
       "      <td>0.161942</td>\n",
       "      <td>a</td>\n",
       "    </tr>\n",
       "    <tr>\n",
       "      <th>B</th>\n",
       "      <td>1.342558</td>\n",
       "      <td>-0.790625</td>\n",
       "      <td>1.349793</td>\n",
       "      <td>0.610453</td>\n",
       "      <td>0.037867</td>\n",
       "      <td>b</td>\n",
       "    </tr>\n",
       "    <tr>\n",
       "      <th>C</th>\n",
       "      <td>-1.252164</td>\n",
       "      <td>-0.719191</td>\n",
       "      <td>-0.051967</td>\n",
       "      <td>-0.360896</td>\n",
       "      <td>-0.142261</td>\n",
       "      <td>c</td>\n",
       "    </tr>\n",
       "    <tr>\n",
       "      <th>D</th>\n",
       "      <td>-1.459981</td>\n",
       "      <td>0.067136</td>\n",
       "      <td>1.545995</td>\n",
       "      <td>0.386753</td>\n",
       "      <td>-0.742060</td>\n",
       "      <td>d</td>\n",
       "    </tr>\n",
       "    <tr>\n",
       "      <th>E</th>\n",
       "      <td>-0.278622</td>\n",
       "      <td>0.959465</td>\n",
       "      <td>-0.957390</td>\n",
       "      <td>0.550733</td>\n",
       "      <td>-0.155722</td>\n",
       "      <td>e</td>\n",
       "    </tr>\n",
       "  </tbody>\n",
       "</table>\n",
       "</div>"
      ],
      "text/plain": [
       "          w         x         y         z         m new\n",
       "A  0.691866 -0.366758 -0.102188  0.609318  0.161942   a\n",
       "B  1.342558 -0.790625  1.349793  0.610453  0.037867   b\n",
       "C -1.252164 -0.719191 -0.051967 -0.360896 -0.142261   c\n",
       "D -1.459981  0.067136  1.545995  0.386753 -0.742060   d\n",
       "E -0.278622  0.959465 -0.957390  0.550733 -0.155722   e"
      ]
     },
     "execution_count": 50,
     "metadata": {},
     "output_type": "execute_result"
    }
   ],
   "source": [
    "# this change is not permanent\n",
    "df"
   ]
  },
  {
   "cell_type": "code",
   "execution_count": null,
   "metadata": {},
   "outputs": [],
   "source": [
    "# for permanent change\n",
    "# run: df.set_index('new',inplace = True)"
   ]
  }
 ],
 "metadata": {
  "kernelspec": {
   "display_name": "Python 3",
   "language": "python",
   "name": "python3"
  },
  "language_info": {
   "codemirror_mode": {
    "name": "ipython",
    "version": 3
   },
   "file_extension": ".py",
   "mimetype": "text/x-python",
   "name": "python",
   "nbconvert_exporter": "python",
   "pygments_lexer": "ipython3",
   "version": "3.7.6"
  }
 },
 "nbformat": 4,
 "nbformat_minor": 4
}
